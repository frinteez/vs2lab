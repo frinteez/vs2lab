{
 "cells": [
  {
   "cell_type": "markdown",
   "metadata": {},
   "source": [
    "# Running server and client in a single notebook \n",
    "Note: not working with Windows\n",
    "## Server part\n"
   ]
  },
  {
   "cell_type": "code",
   "execution_count": 1,
   "metadata": {},
   "outputs": [
    {
     "name": "stderr",
     "output_type": "stream",
     "text": [
      "2025-04-17 13:01:09,936 - vs2lab.lab1.clientserver.Server - INFO - Server bound to socket <socket.socket fd=57, family=2, type=1, proto=0, laddr=('127.0.0.1', 50007)>\n"
     ]
    }
   ],
   "source": [
    "import clientserver # import from our script\n",
    "import os # os module needed for spawning another process\n",
    "\n",
    "server = clientserver.Server() # Create a server instance\n",
    "    \n",
    "pid = os.fork() # we need to fork here in order not to block the notebook\n",
    "if pid == 0: # run server in forked process\n",
    "    server.serve() # start server routine in the forked process\n",
    "    os._exit(0) # after finisching the server routine, kill the forked process"
   ]
  },
  {
   "cell_type": "markdown",
   "metadata": {},
   "source": [
    "## Client\n",
    "Now create a client object and call the server"
   ]
  },
  {
   "cell_type": "code",
   "execution_count": 2,
   "metadata": {},
   "outputs": [
    {
     "name": "stderr",
     "output_type": "stream",
     "text": [
      "2025-04-17 13:01:12,979 - vs2lab.a1_layers.clientserver.Client - INFO - Client connected to socket <socket.socket fd=58, family=2, type=1, proto=0, laddr=('127.0.0.1', 52190), raddr=('127.0.0.1', 50007)>\n",
      "2025-04-17 13:01:12,982 - vs2lab.a1_layers.clientserver.Client - INFO - Client down.\n",
      "2025-04-17 13:01:12,984 - vs2lab.a1_layers.clientserver.Client - INFO - Client connected to socket <socket.socket fd=59, family=2, type=1, proto=0, laddr=('127.0.0.1', 52200), raddr=('127.0.0.1', 50007)>\n",
      "2025-04-17 13:01:12,986 - vs2lab.a1_layers.clientserver.Client - INFO - Client down.\n",
      "2025-04-17 13:01:12,988 - vs2lab.a1_layers.clientserver.Client - INFO - Client connected to socket <socket.socket fd=59, family=2, type=1, proto=0, laddr=('127.0.0.1', 52212), raddr=('127.0.0.1', 50007)>\n",
      "2025-04-17 13:01:12,989 - vs2lab.a1_layers.clientserver.Client - INFO - Client down.\n",
      "2025-04-17 13:01:12,990 - vs2lab.a1_layers.clientserver.Client - INFO - Client connected to socket <socket.socket fd=58, family=2, type=1, proto=0, laddr=('127.0.0.1', 52216), raddr=('127.0.0.1', 50007)>\n",
      "2025-04-17 13:01:12,991 - vs2lab.a1_layers.clientserver.Client - INFO - Client down.\n"
     ]
    },
    {
     "name": "stdout",
     "output_type": "stream",
     "text": [
      "Hello VS2LAB*\n",
      "{'Max': '123456', 'Anna': '987654', 'Überanna': '555000'}*\n",
      "123456*\n",
      "Name not found*\n"
     ]
    },
    {
     "data": {
      "text/plain": [
       "'Name not found*'"
      ]
     },
     "execution_count": 2,
     "metadata": {},
     "output_type": "execute_result"
    }
   ],
   "source": [
    "import clientserver # import from our script\n",
    "client = clientserver.Client() # Create a client instance\n",
    "client.call(\"Hello VS2LAB\") # call Max from the server\n",
    "client = clientserver.Client() # Create a client instance\n",
    "client.GETALL() # get all from the server\n",
    "client = clientserver.Client() # Create a client instance\n",
    "client.GET(\"Max\") # get Max from the server\n",
    "client = clientserver.Client() # Create a client instance\n",
    "client.GET('Unknown') # get Unknown from the server"
   ]
  },
  {
   "cell_type": "markdown",
   "metadata": {},
   "source": [
    "That was all. The server process has terminated as well after returning the echo message."
   ]
  }
 ],
 "metadata": {
  "kernelspec": {
   "display_name": "Python 3 (ipykernel)",
   "language": "python",
   "name": "python3"
  },
  "language_info": {
   "codemirror_mode": {
    "name": "ipython",
    "version": 3
   },
   "file_extension": ".py",
   "mimetype": "text/x-python",
   "name": "python",
   "nbconvert_exporter": "python",
   "pygments_lexer": "ipython3",
   "version": "3.11.4"
  }
 },
 "nbformat": 4,
 "nbformat_minor": 4
}
